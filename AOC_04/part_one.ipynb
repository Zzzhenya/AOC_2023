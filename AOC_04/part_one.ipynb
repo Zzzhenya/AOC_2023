{
 "cells": [
  {
   "cell_type": "code",
   "execution_count": 11,
   "id": "53b48a01-7e8f-45cc-8d5e-743f57442fa0",
   "metadata": {},
   "outputs": [],
   "source": [
    "import pandas as pd\n",
    "import math"
   ]
  },
  {
   "cell_type": "code",
   "execution_count": 12,
   "id": "0f4ff0d6-f27a-49b0-8e76-ff3b3865fe4f",
   "metadata": {},
   "outputs": [],
   "source": [
    "with open('input.txt', 'r') as input_data:\n",
    "    rows = [line.strip() for line in input_data.readlines()]"
   ]
  },
  {
   "cell_type": "code",
   "execution_count": 43,
   "id": "e452c10c-d0e3-4fa1-b67b-544234e106d9",
   "metadata": {},
   "outputs": [],
   "source": [
    "def get_df(word, rows):\n",
    "    d = {}\n",
    "    i = 0\n",
    "    for row in rows:\n",
    "        if row == word:\n",
    "            i += 1\n",
    "            break\n",
    "        i += 1\n",
    "    j = 0\n",
    "    for row in rows:\n",
    "        if j >= i :\n",
    "            if row == \"\":\n",
    "                break\n",
    "            d[i] = []\n",
    "            d[i] = row.split(' ')\n",
    "            d[i] = [int(i) for i in d[i]]\n",
    "            i += 1\n",
    "        j += 1\n",
    "    df = pd. DataFrame. from_dict(d, orient='index') \n",
    "    df.rename(columns={0:\"dest\", 1:\"src\", 2:\"range\"}, inplace = True)\n",
    "    return (df)"
   ]
  },
  {
   "cell_type": "code",
   "execution_count": 44,
   "id": "9bd65217-3eb2-4019-9395-9d82dcc82a0f",
   "metadata": {},
   "outputs": [],
   "source": [
    "seedtosoil = get_df(\"seed-to-soil map:\", rows)\n",
    "\n",
    "soiltofert = get_df(\"soil-to-fertilizer map:\", rows)\n",
    "\n",
    "fertowater = get_df(\"fertilizer-to-water map:\", rows)\n",
    "\n",
    "watertolite = get_df(\"water-to-light map:\", rows)\n",
    "\n",
    "litetotemp = get_df(\"light-to-temperature map:\", rows)\n",
    "\n",
    "temptohum = get_df(\"temperature-to-humidity map:\", rows)\n",
    "\n",
    "humtoloc = get_df(\"humidity-to-location map:\", rows)"
   ]
  },
  {
   "cell_type": "code",
   "execution_count": 45,
   "id": "e291e521-ce7b-41a9-bc48-30266efa2b56",
   "metadata": {},
   "outputs": [
    {
     "name": "stdout",
     "output_type": "stream",
     "text": [
      "[41218238, 421491713, 1255413673, 350530906, 944138913, 251104806, 481818804, 233571979, 2906248740, 266447632, 3454130719, 50644329, 1920342932, 127779721, 2109326496, 538709762, 3579244700, 267233350, 4173137165, 60179884]\n"
     ]
    }
   ],
   "source": [
    "for row in rows:\n",
    "        if \"seeds:\" in row:\n",
    "            seeds = (row.split(': ')[1].split(' '))\n",
    "            seeds = [int(i) for i in seeds]\n",
    "            print(seeds)\n",
    "            "
   ]
  },
  {
   "cell_type": "code",
   "execution_count": 109,
   "id": "76e812b7-5337-429f-80d4-dcd092a74d39",
   "metadata": {},
   "outputs": [],
   "source": [
    "#df.loc[ df[“column_name”] == “some_value”, “column_name”] = “value”\n",
    "d = {}\n",
    "i = 0\n",
    "for seed in seeds:\n",
    "    d[i] = []\n",
    "    d[i].append(seedtosoil.loc[(seedtosoil[\"src\" ] <= \n",
    "                                     seed) & (seedtosoil[\"src\" ] + \n",
    "                                                  seedtosoil[\"range\" ]  >= seed)])\n",
    "    i += 1"
   ]
  },
  {
   "cell_type": "code",
   "execution_count": 111,
   "id": "1ca3847d-885e-40f3-a041-97d8b8fbcc65",
   "metadata": {},
   "outputs": [
    {
     "data": {
      "text/plain": [
       "{0: [          dest       src      range\n",
       "  27  1644897150  26921882  117802553],\n",
       " 1: [         dest        src     range\n",
       "  6  1475667857  405321476  41320497],\n",
       " 2: [         dest         src     range\n",
       "  3  1389477588  1222450723  86190269],\n",
       " 3: [         dest        src      range\n",
       "  40  719122510  144724435  260597041],\n",
       " 4: [          dest        src     range\n",
       "  45  1069995565  875204932  81953848],\n",
       " 5: [         dest        src      range\n",
       "  40  719122510  144724435  260597041],\n",
       " 6: [         dest        src     range\n",
       "  16  979719551  446641973  90276014],\n",
       " 7: [         dest        src      range\n",
       "  40  719122510  144724435  260597041],\n",
       " 8: [          dest         src      range\n",
       "  42  2496835771  2741309195  199629864],\n",
       " 9: [         dest        src      range\n",
       "  40  719122510  144724435  260597041],\n",
       " 10: [         dest         src      range\n",
       "  4  2369327568  3429737174  127508203],\n",
       " 11: [          dest       src      range\n",
       "  27  1644897150  26921882  117802553],\n",
       " 12: [         dest         src      range\n",
       "  47  270778478  1814135909  109709019],\n",
       " 13: [          dest       src      range\n",
       "  27  1644897150  26921882  117802553],\n",
       " 14: [          dest         src      range\n",
       "  33  2729160001  2097020452  172032755],\n",
       " 15: [         dest        src     range\n",
       "  7  1258939826  536917987  41172751],\n",
       " 16: [          dest         src      range\n",
       "  34  3635193279  3557245377  297262255],\n",
       " 17: [         dest        src      range\n",
       "  40  719122510  144724435  260597041],\n",
       " 18: [          dest         src      range\n",
       "  44  3200111916  4117921253  119304042],\n",
       " 19: [          dest       src      range\n",
       "  27  1644897150  26921882  117802553]}"
      ]
     },
     "execution_count": 111,
     "metadata": {},
     "output_type": "execute_result"
    }
   ],
   "source": [
    "d\n"
   ]
  },
  {
   "cell_type": "code",
   "execution_count": 107,
   "id": "7916c5ba-3f03-4376-88c5-b46446d8649f",
   "metadata": {},
   "outputs": [
    {
     "data": {
      "text/plain": [
       "{'dest': 27    1644897150\n",
       " Name: dest, dtype: int64,\n",
       " 'src': 27    26921882\n",
       " Name: src, dtype: int64,\n",
       " 'range': 27    117802553\n",
       " Name: range, dtype: int64}"
      ]
     },
     "execution_count": 107,
     "metadata": {},
     "output_type": "execute_result"
    }
   ],
   "source": [
    "d"
   ]
  },
  {
   "cell_type": "code",
   "execution_count": 71,
   "id": "ef7896d1-03fa-412d-b3b7-9a86d4656d8f",
   "metadata": {},
   "outputs": [],
   "source": [
    "df = pd. DataFrame. from_dict(d, orient='columns') "
   ]
  },
  {
   "cell_type": "code",
   "execution_count": 72,
   "id": "7d53eced-3a44-4aed-99dc-c7b5bfd8c574",
   "metadata": {},
   "outputs": [
    {
     "data": {
      "text/html": [
       "<div>\n",
       "<style scoped>\n",
       "    .dataframe tbody tr th:only-of-type {\n",
       "        vertical-align: middle;\n",
       "    }\n",
       "\n",
       "    .dataframe tbody tr th {\n",
       "        vertical-align: top;\n",
       "    }\n",
       "\n",
       "    .dataframe thead th {\n",
       "        text-align: right;\n",
       "    }\n",
       "</style>\n",
       "<table border=\"1\" class=\"dataframe\">\n",
       "  <thead>\n",
       "    <tr style=\"text-align: right;\">\n",
       "      <th></th>\n",
       "      <th>dest</th>\n",
       "      <th>src</th>\n",
       "      <th>range</th>\n",
       "    </tr>\n",
       "  </thead>\n",
       "  <tbody>\n",
       "    <tr>\n",
       "      <th>27</th>\n",
       "      <td>1644897150</td>\n",
       "      <td>26921882</td>\n",
       "      <td>117802553</td>\n",
       "    </tr>\n",
       "  </tbody>\n",
       "</table>\n",
       "</div>"
      ],
      "text/plain": [
       "          dest       src      range\n",
       "27  1644897150  26921882  117802553"
      ]
     },
     "execution_count": 72,
     "metadata": {},
     "output_type": "execute_result"
    }
   ],
   "source": [
    "df"
   ]
  },
  {
   "cell_type": "code",
   "execution_count": null,
   "id": "249c2013-2613-4465-9151-b44ecf73ee6a",
   "metadata": {},
   "outputs": [],
   "source": []
  }
 ],
 "metadata": {
  "kernelspec": {
   "display_name": "Python 3 (ipykernel)",
   "language": "python",
   "name": "python3"
  },
  "language_info": {
   "codemirror_mode": {
    "name": "ipython",
    "version": 3
   },
   "file_extension": ".py",
   "mimetype": "text/x-python",
   "name": "python",
   "nbconvert_exporter": "python",
   "pygments_lexer": "ipython3",
   "version": "3.9.6"
  }
 },
 "nbformat": 4,
 "nbformat_minor": 5
}
